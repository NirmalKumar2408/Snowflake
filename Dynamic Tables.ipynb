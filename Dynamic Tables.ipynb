{
 "metadata": {
  "kernelspec": {
   "display_name": "Streamlit Notebook",
   "name": "streamlit"
  },
  "lastEditStatus": {
   "notebookId": "r6rub4yanjqzghkgez3h",
   "authorId": "1748601881712",
   "authorName": "NIRMAL1077",
   "authorEmail": "kumar.praveen592000@gmail.com",
   "sessionId": "0fd7ed4b-4430-4cc6-be85-1257ad5026f6",
   "lastEditTime": 1756783229384
  }
 },
 "nbformat_minor": 5,
 "nbformat": 4,
 "cells": [
  {
   "cell_type": "markdown",
   "id": "6621aebe-2fd0-4ffb-ac1f-a04c67a399c6",
   "metadata": {
    "name": "cell4",
    "collapsed": false
   },
   "source": "Dynamic Tables ?\n\nDynamic tables are tables that materialize the results of a specified query. Rather than creating a separate target table and writing code to modify and update the data in that table, dynamic tables allow you to designate the target table as dynamic and define an SQL statement to perform the transformation. These tables automatically update the materialized results through regular and often incremental refreshes, eliminating the need for manual updates. Dynamic tables provide a convenient and automated way to manage data transformations and keep the target table up-to-date with the latest query results."
  },
  {
   "cell_type": "markdown",
   "id": "b4ff8bc0-ff9d-4207-95a6-a64ce2de5c95",
   "metadata": {
    "name": "cell6",
    "collapsed": false
   },
   "source": "SYNTAX:\n\nCREATE [ OR REPLACE ] DYNAMIC TABLE <name>\n  TARGET_LAG = { '<num> { seconds | minutes | hours | days }' | DOWNSTREAM }\n  WAREHOUSE = <warehouse_name>\n  AS <query>"
  },
  {
   "cell_type": "code",
   "id": "3775908f-ca36-4846-8f38-5adca39217f2",
   "metadata": {
    "language": "sql",
    "name": "cell1"
   },
   "source": "-----EXAMPLE-----\n\nCREATE OR REPLACE DATABASE DYNAMIC_TABLE_DB;\n\nCREATE OR REPLACE SCHEMA DYNAMIC_TABLE_SCH;\n\nCREATE OR REPLACE TABLE EMPLOYEE(EMP_ID INT, EMP_NAME VARCHAR,EMP_ADDRESS VARCHAR);\n\nINSERT INTO EMPLOYEE VALUES(1,'AGAL','INDIA');\nINSERT INTO EMPLOYEE VALUES(2,'KINNU','INDIA');\nINSERT INTO EMPLOYEE VALUES(3,'SHUKESH','AUSTRALIA');\nINSERT INTO EMPLOYEE VALUES(4,'SUPREET','UAE');\n\nSELECT * FROM EMPLOYEE;\n\nCREATE OR REPLACE TABLE EMPLOYEE_SKILL(\nSKILL_ID NUMBER,\nEMP_ID NUMBER,\nSKILL_NAME VARCHAR(50),\nSKILL_LEVEL VARCHAR(50)\n);\n\nINSERT INTO EMPLOYEE_SKILL VALUES(1,1,'SNOWFLAKE','ADVANCE');\nINSERT INTO EMPLOYEE_SKILL VALUES(2,1,'PYTHON','BASIC');\nINSERT INTO EMPLOYEE_SKILL VALUES(3,1,'SQL','INTERMEDIATE');\nINSERT INTO EMPLOYEE_SKILL VALUES(1,2,'SNOWFLAKE','ADVANCE');\nINSERT INTO EMPLOYEE_SKILL VALUES(1,4,'SNOWFLAKE','ADVANCE');\n\nSELECT * FROM EMPLOYEE_SKILL;",
   "execution_count": null,
   "outputs": []
  },
  {
   "cell_type": "markdown",
   "id": "9f5c6c86-ea33-4206-9d0e-b2c004de2ee4",
   "metadata": {
    "name": "cell7",
    "collapsed": false
   },
   "source": "The given script includes the creation and population of two tables: EMPLOYEE and EMPLOYEE_SKILL. Here’s a brief description of each table:\n\nEMPLOYEE Table:\n\nColumns: EMP_ID (integer), EMP_NAME (varchar), EMP_ADDRESS (varchar)\nPurpose: This table stores information about employees, including their unique IDs, names, and addresses.\nEMPLOYEE_SKILL Table:\n\nColumns: SKILL_ID (number), EMP_ID (number), SKILL_NAME (varchar), SKILL_LEVEL (varchar)\nPurpose: This table maintains the skills and skill levels of employees. It establishes a relationship with the EMPLOYEE table through the EMP_ID column, representing the employee’s ID. Each skill entry includes a skill ID, skill name, and skill level."
  },
  {
   "cell_type": "markdown",
   "id": "2aab6d44-a6f4-4f70-8e9a-f80786068e49",
   "metadata": {
    "name": "cell8",
    "collapsed": false
   },
   "source": "Points to remember:\n\nBefore proceeding with the creation of dynamic tables, it is essential to understand that enabling change tracking for the underlying objects is crucial. As dynamic tables rely on tracking changes in the underlying database objects, it becomes necessary to enable change tracking on all related objects.\n\nWhen creating a dynamic table in Snowflake, the platform automatically attempts to enable change tracking on the underlying objects. However, it is important to note that the user creating the dynamic table might not have the necessary privileges to enable change tracking on all the required objects. Therefore, it is advisable to use commands such as SHOW VIEW, SHOW TABLE, or similar ones to inspect the CHANGE_TRACKING column. This will help determine if change tracking is enabled for specific database objects, ensuring smooth and error-free refreshes of dynamic tables."
  },
  {
   "cell_type": "markdown",
   "id": "cf9e06ae-516b-4d72-96a0-8f81234d1b6f",
   "metadata": {
    "name": "cell9",
    "collapsed": false
   },
   "source": "Now, we will check change tracking for the table which we have created,"
  },
  {
   "cell_type": "code",
   "id": "2b90a3f3-e8bc-4891-a5f2-65fd6107a886",
   "metadata": {
    "language": "sql",
    "name": "cell10"
   },
   "outputs": [],
   "source": "SHOW TABLES;",
   "execution_count": null
  },
  {
   "cell_type": "markdown",
   "id": "bb39ca05-0bc0-4b77-bb57-4e5c46a03ebc",
   "metadata": {
    "name": "cell11",
    "collapsed": false
   },
   "source": "Although change tracking is currently disabled for both the Employee and Employee_Skill tables, it’s important to note that when a dynamic table is created on top of these tables, change tracking will be automatically enabled. This ensures that the dynamic table captures and reflects any modifications made to the underlying data."
  },
  {
   "cell_type": "code",
   "id": "8d50cbf4-0c8d-4950-86cb-114990437ac9",
   "metadata": {
    "language": "sql",
    "name": "cell2"
   },
   "source": "------------DYNAMIC TABLE---------\n\nCREATE OR REPLACE DYNAMIC TABLE EMPLOYEE_DET\n TARGET_LAG = '1 MINUTE'\n  WAREHOUSE = COMPUTE_WH\n  AS\n    SELECT A.EMP_ID,A.EMP_NAME,A.EMP_ADDRESS, B.SKILL_ID,B.SKILL_NAME,B.SKILL_LEVEL\n    FROM EMPLOYEE A, EMPLOYEE_SKILL B\n    WHERE A.EMP_ID=B.EMP_ID\n    ORDER BY B.SKILL_ID ;",
   "execution_count": null,
   "outputs": []
  },
  {
   "cell_type": "markdown",
   "id": "29929a4b-980a-4020-8eb3-306dc538a970",
   "metadata": {
    "name": "cell12",
    "collapsed": false
   },
   "source": "In this scenario:\n\nThe code snippet demonstrates the creation or replacement of a dynamic table named EMPLOYEE_DET. It utilizes the EMPLOYEE and EMPLOYEE_SKILL tables to populate the dynamic table.\nThe target lag for the dynamic table is set to 1 minute, indicating that the data in the dynamic table should ideally not be more than 1 minute behind the data in the source tables.\nThe dynamic table is refreshed automatically, leveraging the compute resources of the COMPUTE_WH warehouse.\nThe data in the dynamic table is derived by selecting relevant columns from the EMPLOYEE and EMPLOYEE_SKILL tables, performing a join based on the EMP_ID column, and ordering the result by the SKILL_ID column."
  },
  {
   "cell_type": "markdown",
   "id": "bd57803e-157d-4f33-b55e-4f529e773a9d",
   "metadata": {
    "name": "cell13",
    "collapsed": false
   },
   "source": "When querying the Dynamic Table EMPLOYEE_DET immediately after its creation, you may encounter an error stating, “Dynamic Table ‘DYNAMIC_TABLE_DB.DYNAMIC_TABLE_SCH.EMPLOYEE_DET’ is not initialized. Please run a manual refresh or wait for a scheduled refresh before querying.” This error occurs because the table requires a one-minute wait for the Target Lag to be completed. It is necessary to either manually refresh the table or wait until the scheduled refresh occurs before querying the data successfully."
  },
  {
   "cell_type": "markdown",
   "id": "02880de1-2c6c-468f-ac2a-2f231ae8ba0d",
   "metadata": {
    "name": "cell14",
    "collapsed": false
   },
   "source": "Any Data Manipulation Language (DML) changes made to the base tables, such as EMPLOYEE or EMPLOYEE_SKILL, will be reflected in the Dynamic table within the specified latency period of 1 minute. This includes any modifications to the data itself, such as inserting, updating, or deleting records in the base tables. The Dynamic table automatically captures and reflects these changes, ensuring that it stays up-to-date with the latest data modifications. This real-time synchronization between the base tables and the Dynamic table allows for accurate and timely data analysis and reporting."
  },
  {
   "cell_type": "code",
   "id": "c24067a5-7f04-4963-848f-ac9a4f051d91",
   "metadata": {
    "language": "sql",
    "name": "cell15"
   },
   "outputs": [],
   "source": "-------Performaing DML Operations on the table-------\n\nUPDATE EMPLOYEE_SKILL\nSET SKILL_LEVEL = 'ADVANCED'\nWHERE EMP_ID = 1 AND SKILL_NAME = 'SNOWFLAKE';\n\nDELETE FROM EMPLOYEE\nWHERE EMP_ID = 4;",
   "execution_count": null
  },
  {
   "cell_type": "markdown",
   "id": "23c40f0c-b7ff-42c8-9a89-1a206162cc5a",
   "metadata": {
    "name": "cell3",
    "collapsed": false
   },
   "source": "After executing the above statements and waiting for a one-minute lag period, the dynamic table will be automatically updated."
  },
  {
   "cell_type": "code",
   "id": "73ab7990-e545-46d8-aa98-e59b5de647d9",
   "metadata": {
    "language": "python",
    "name": "cell5"
   },
   "outputs": [],
   "source": "EMP_ID\tEMP_NAME\tEMP_ADDRESS\tSKILL_ID\tSKILL_NAME\tSKILL_LEVEL\n1\t    AGAL\t       INDIA\t  1\t         SNOWFLAKE\tADVANCE\n2\t    KINNU\t       INDIA\t  1\t         SNOWFLAKE\tADVANCE\n4\t    SUPREET\t       UAE\t      1\t         SNOWFLAKE\tADVANCE\n1\t    AGAL\t       INDIA\t  2\t         PYTHON\t    BASIC\n1\t    AGAL\t       INDIA\t  3\t         SQL\t    INTERMEDIATE\n\t\t\t\t\t\n\t\t\t\t\t\n\t\t\t\t\t\nEMP_ID\tEMP_NAME\tEMP_ADDRESS\tSKILL_ID\tSKILL_NAME\tSKILL_LEVEL\n1\t    AGAL\t       INDIA\t  1\t         SNOWFLAKE\tADVANCED\n2\t    KINNU\t       INDIA\t  1\t         SNOWFLAKE\tADVANCE\n1\t    AGAL\t       INDIA\t  2\t         PYTHON\t    BASIC\n1\t    AGAL\t       INDIA\t  3\t         SQL\t    INTERMEDIATE\n",
   "execution_count": null
  }
 ]
}